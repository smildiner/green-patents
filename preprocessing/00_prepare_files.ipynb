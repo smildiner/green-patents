{
 "cells": [
  {
   "cell_type": "markdown",
   "id": "734498a9-da2b-4fbc-8d79-c00ccc26ced6",
   "metadata": {},
   "source": [
    "## This scripts created the files necessary to run the breakthrough algorithms"
   ]
  },
  {
   "cell_type": "markdown",
   "id": "11531e64-fa48-4e45-99cd-fc120d41ee13",
   "metadata": {},
   "source": [
    "### Patent/Year-index"
   ]
  },
  {
   "cell_type": "code",
   "execution_count": 2,
   "id": "958f5686-d7a9-449f-96fc-5596d384967d",
   "metadata": {
    "tags": []
   },
   "outputs": [],
   "source": [
    "# !pip install tqdm\n",
    "import os\n",
    "import pandas as pd\n",
    "from tqdm import tqdm"
   ]
  },
  {
   "cell_type": "code",
   "execution_count": 3,
   "id": "d06241f8-c4cc-458a-8376-d1a486a20504",
   "metadata": {
    "tags": []
   },
   "outputs": [
    {
     "name": "stderr",
     "output_type": "stream",
     "text": [
      "100%|█████████████████████████████████████████████| 7/7 [00:19<00:00,  2.75s/it]\n"
     ]
    }
   ],
   "source": [
    "# Folder path containing the .tsv files\n",
    "folder_path = 'data/USPTO/brief_text'\n",
    "\n",
    "# List to store unique values of \"patent_id\" and corresponding years\n",
    "result_data = []\n",
    "\n",
    "# Loop over all files in the folder\n",
    "for filename in tqdm(os.listdir(folder_path)):\n",
    "    if filename.endswith('.tsv'):\n",
    "        # Extract year from the filename\n",
    "        year = filename.split('_')[-1].split('.')[0]\n",
    "        \n",
    "        # Read the TSV file into a DataFrame\n",
    "        file_path = os.path.join(folder_path, filename)\n",
    "        df = pd.read_csv(file_path, sep='\\t')\n",
    "        \n",
    "        # Filter out entries with non-numeric patent_id values\n",
    "        df['patent_id'] = pd.to_numeric(df['patent_id'], errors='coerce', downcast='integer')\n",
    "        df = df.dropna(subset=['patent_id'])\n",
    "        \n",
    "        # Extract unique values of \"patent_id\"\n",
    "        unique_patents = df['patent_id'].unique()\n",
    "        \n",
    "        # Append data to the result list\n",
    "        result_data.extend([(int(float(patent)), year) for patent in unique_patents])\n",
    "        \n",
    "        # Delete the DataFrame to free up memory\n",
    "        del df\n",
    "\n",
    "# Create a DataFrame from the result list\n",
    "result_df = pd.DataFrame(result_data, columns=['pat', 'year'])\n",
    "\n",
    "# Save the concatenated data to a new file\n",
    "result_df.to_csv('data/USPTO/input_files/year.csv', index=False, sep=\"\\t\")\n"
   ]
  },
  {
   "cell_type": "code",
   "execution_count": 42,
   "id": "35191db2-07ef-4a86-b9bf-7a16bc70c0b4",
   "metadata": {
    "tags": []
   },
   "outputs": [],
   "source": [
    "year = pd.read_csv(\"data/USPTO/input_files/year.csv\", delimiter=\"\\t\")"
   ]
  },
  {
   "cell_type": "code",
   "execution_count": 43,
   "id": "ef2157b9-d997-44d2-9cf7-f53ae4a4f8e1",
   "metadata": {
    "tags": []
   },
   "outputs": [
    {
     "data": {
      "text/plain": [
       "(376178, 2)"
      ]
     },
     "execution_count": 43,
     "metadata": {},
     "output_type": "execute_result"
    }
   ],
   "source": [
    "year.shape"
   ]
  },
  {
   "cell_type": "code",
   "execution_count": 44,
   "id": "68d86165-d368-45e3-ac1d-d0c3051ddbc2",
   "metadata": {
    "tags": []
   },
   "outputs": [
    {
     "data": {
      "text/plain": [
       "0         4000024\n",
       "1         3944441\n",
       "2         3953613\n",
       "3         3945518\n",
       "4         3932608\n",
       "           ...   \n",
       "376173    4070754\n",
       "376174    4084606\n",
       "376175    4066237\n",
       "376176    4124819\n",
       "376177    4124698\n",
       "Name: pat, Length: 376178, dtype: int64"
      ]
     },
     "execution_count": 44,
     "metadata": {},
     "output_type": "execute_result"
    }
   ],
   "source": [
    "year[\"pat\"]"
   ]
  },
  {
   "cell_type": "code",
   "execution_count": 27,
   "id": "eb7b4a03-b9ea-41d1-bd05-ee52879db0e6",
   "metadata": {
    "tags": []
   },
   "outputs": [],
   "source": [
    "# Delete to free up memory\n",
    "del year"
   ]
  },
  {
   "cell_type": "markdown",
   "id": "91243e52-0cba-4ebc-8001-5a7c05efa66a",
   "metadata": {},
   "source": [
    "### CPC-file"
   ]
  },
  {
   "cell_type": "code",
   "execution_count": 40,
   "id": "fc7d8884-8663-4a5c-8f73-8e049998dd11",
   "metadata": {
    "tags": []
   },
   "outputs": [
    {
     "data": {
      "text/html": [
       "<div>\n",
       "<style scoped>\n",
       "    .dataframe tbody tr th:only-of-type {\n",
       "        vertical-align: middle;\n",
       "    }\n",
       "\n",
       "    .dataframe tbody tr th {\n",
       "        vertical-align: top;\n",
       "    }\n",
       "\n",
       "    .dataframe thead th {\n",
       "        text-align: right;\n",
       "    }\n",
       "</style>\n",
       "<table border=\"1\" class=\"dataframe\">\n",
       "  <thead>\n",
       "    <tr style=\"text-align: right;\">\n",
       "      <th></th>\n",
       "      <th>patent_id</th>\n",
       "      <th>cpc_sequence</th>\n",
       "      <th>cpc_group</th>\n",
       "    </tr>\n",
       "  </thead>\n",
       "  <tbody>\n",
       "    <tr>\n",
       "      <th>0</th>\n",
       "      <td>3950000</td>\n",
       "      <td>0</td>\n",
       "      <td>A63C9/001</td>\n",
       "    </tr>\n",
       "    <tr>\n",
       "      <th>1</th>\n",
       "      <td>3950000</td>\n",
       "      <td>1</td>\n",
       "      <td>A63C9/00</td>\n",
       "    </tr>\n",
       "    <tr>\n",
       "      <th>2</th>\n",
       "      <td>3950000</td>\n",
       "      <td>2</td>\n",
       "      <td>A63C9/002</td>\n",
       "    </tr>\n",
       "    <tr>\n",
       "      <th>3</th>\n",
       "      <td>3950000</td>\n",
       "      <td>3</td>\n",
       "      <td>A63C9/081</td>\n",
       "    </tr>\n",
       "    <tr>\n",
       "      <th>4</th>\n",
       "      <td>3950001</td>\n",
       "      <td>0</td>\n",
       "      <td>A63C9/086</td>\n",
       "    </tr>\n",
       "    <tr>\n",
       "      <th>...</th>\n",
       "      <td>...</td>\n",
       "      <td>...</td>\n",
       "      <td>...</td>\n",
       "    </tr>\n",
       "    <tr>\n",
       "      <th>995</th>\n",
       "      <td>3950238</td>\n",
       "      <td>1</td>\n",
       "      <td>C08F8/00</td>\n",
       "    </tr>\n",
       "    <tr>\n",
       "      <th>996</th>\n",
       "      <td>3950238</td>\n",
       "      <td>2</td>\n",
       "      <td>C08F279/02</td>\n",
       "    </tr>\n",
       "    <tr>\n",
       "      <th>997</th>\n",
       "      <td>3950238</td>\n",
       "      <td>3</td>\n",
       "      <td>C08F285/00</td>\n",
       "    </tr>\n",
       "    <tr>\n",
       "      <th>998</th>\n",
       "      <td>3950238</td>\n",
       "      <td>4</td>\n",
       "      <td>C08F291/02</td>\n",
       "    </tr>\n",
       "    <tr>\n",
       "      <th>999</th>\n",
       "      <td>3950238</td>\n",
       "      <td>5</td>\n",
       "      <td>C08K5/053</td>\n",
       "    </tr>\n",
       "  </tbody>\n",
       "</table>\n",
       "<p>1000 rows × 3 columns</p>\n",
       "</div>"
      ],
      "text/plain": [
       "     patent_id  cpc_sequence   cpc_group\n",
       "0      3950000             0   A63C9/001\n",
       "1      3950000             1    A63C9/00\n",
       "2      3950000             2   A63C9/002\n",
       "3      3950000             3   A63C9/081\n",
       "4      3950001             0   A63C9/086\n",
       "..         ...           ...         ...\n",
       "995    3950238             1    C08F8/00\n",
       "996    3950238             2  C08F279/02\n",
       "997    3950238             3  C08F285/00\n",
       "998    3950238             4  C08F291/02\n",
       "999    3950238             5   C08K5/053\n",
       "\n",
       "[1000 rows x 3 columns]"
      ]
     },
     "execution_count": 40,
     "metadata": {},
     "output_type": "execute_result"
    }
   ],
   "source": [
    "# cpc = pd.read_csv(\"data/USPTO/g_cpc_current.tsv\", usecols=[\"patent_id\",\"cpc_sequence\",\"cpc_group\"], chunksize=1000, delimiter=\"\\t\")\n",
    "# cpc = next(cpc)\n",
    "# cpc"
   ]
  },
  {
   "cell_type": "code",
   "execution_count": 4,
   "id": "a4f9ed8a-5d19-4501-872c-e984a9b71be1",
   "metadata": {
    "tags": []
   },
   "outputs": [],
   "source": [
    "import pandas as pd\n",
    "\n",
    "# Load file\n",
    "cpc = pd.read_csv(\"data/USPTO/g_cpc_current.tsv\", usecols=[\"patent_id\",\"cpc_sequence\",\"cpc_group\"], delimiter=\"\\t\")\n",
    "\n",
    "# Filter out entries with non-numeric patent_id values\n",
    "cpc['patent_id'] = pd.to_numeric(cpc['patent_id'], errors='coerce', downcast='integer')\n",
    "cpc = cpc.dropna(subset=['patent_id'])\n",
    "\n",
    "# Change column names\n",
    "column_mapping = {\"patent_id\": \"pat\", \"cpc_sequence\": \"progr\", \"cpc_group\": \"CPC\"}\n",
    "cpc = cpc.rename(columns=column_mapping)\n",
    "# cpc['CPC'] = cpc['CPC'].str[:4]\n",
    "cpc = cpc.drop_duplicates(subset=['pat', 'CPC'])\n",
    "\n",
    "# Save the concatenated data to a new file\n",
    "cpc.to_csv('data/USPTO/input_files/GPCPCs.txt', index=False, sep=\"\\t\")\n",
    "\n",
    "# Free memory\n",
    "del cpc\n"
   ]
  },
  {
   "cell_type": "markdown",
   "id": "59e60c28-f80c-41c3-9c96-c5c7a1619c30",
   "metadata": {},
   "source": [
    "### Patents brief text\n",
    "Create mock files with 1000 patents only"
   ]
  },
  {
   "cell_type": "code",
   "execution_count": 46,
   "id": "f80def4f-2504-4e10-b2df-51657b4b7af9",
   "metadata": {
    "tags": []
   },
   "outputs": [
    {
     "name": "stderr",
     "output_type": "stream",
     "text": [
      "100%|█████████████████████████████████████████████| 7/7 [00:19<00:00,  2.83s/it]\n"
     ]
    }
   ],
   "source": [
    "# !pip install tqdm\n",
    "import pandas as pd\n",
    "\n",
    "# Folder path containing the .tsv files\n",
    "folder_path = 'data/USPTO/brief_text'\n",
    "\n",
    "# Loop over all files in the folder\n",
    "for filename in tqdm(os.listdir(folder_path)):\n",
    "    if filename.endswith('.tsv'):\n",
    "        \n",
    "        # Read the TSV file into a DataFrame\n",
    "        file_path = os.path.join(folder_path, filename)\n",
    "        df = pd.read_csv(file_path, sep='\\t')\n",
    "        df.iloc[0:1000,:].to_csv(f\"data/USPTO/mock/{filename}\", index=False, sep=\"\\t\")"
   ]
  },
  {
   "cell_type": "code",
   "execution_count": 1,
   "id": "b8ef9348-1bb1-49c9-a628-7a55cf54bc07",
   "metadata": {
    "tags": []
   },
   "outputs": [],
   "source": [
    "import pandas as pd\n",
    "pat = pd.read_csv(\"data/USPTO/brief_text/g_brf_sum_text_1976.tsv\", sep = \"\\t\")"
   ]
  },
  {
   "cell_type": "code",
   "execution_count": 2,
   "id": "23053186-42ec-4c71-a37f-eafd09d14aff",
   "metadata": {
    "tags": []
   },
   "outputs": [
    {
     "name": "stdout",
     "output_type": "stream",
     "text": [
      "0    BACKGROUND OF THE INVENTION \\nThis invention r...\n",
      "1    The present invention relates to the methods o...\n",
      "2    BACKGROUND OF THE INVENTION \\nThe present inve...\n",
      "3    BACKGROUND OF THE INVENTION \\n1. Field of the ...\n",
      "4    The present invention relates to a food compos...\n",
      "Name: summary_text, dtype: object\n"
     ]
    }
   ],
   "source": [
    "# pat[pat[\"patent_id\"].str.startswith(\"RE\")]\n",
    "print(pat.iloc[0:5,1])"
   ]
  },
  {
   "cell_type": "code",
   "execution_count": null,
   "id": "dd3a6913-b0bf-4f5b-be35-78380e304bdc",
   "metadata": {},
   "outputs": [],
   "source": []
  }
 ],
 "metadata": {
  "kernelspec": {
   "display_name": "Python 3 (ipykernel)",
   "language": "python",
   "name": "python3"
  },
  "language_info": {
   "codemirror_mode": {
    "name": "ipython",
    "version": 3
   },
   "file_extension": ".py",
   "mimetype": "text/x-python",
   "name": "python",
   "nbconvert_exporter": "python",
   "pygments_lexer": "ipython3",
   "version": "3.8.10"
  }
 },
 "nbformat": 4,
 "nbformat_minor": 5
}
