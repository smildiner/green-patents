{
 "cells": [
  {
   "cell_type": "markdown",
   "id": "734498a9-da2b-4fbc-8d79-c00ccc26ced6",
   "metadata": {},
   "source": [
    "## This scripts created the files necessary to run the breakthrough algorithms"
   ]
  },
  {
   "cell_type": "markdown",
   "id": "91243e52-0cba-4ebc-8001-5a7c05efa66a",
   "metadata": {},
   "source": [
    "### CPC-file"
   ]
  },
  {
   "cell_type": "code",
   "execution_count": 40,
   "id": "fc7d8884-8663-4a5c-8f73-8e049998dd11",
   "metadata": {
    "tags": []
   },
   "outputs": [
    {
     "data": {
      "text/html": [
       "<div>\n",
       "<style scoped>\n",
       "    .dataframe tbody tr th:only-of-type {\n",
       "        vertical-align: middle;\n",
       "    }\n",
       "\n",
       "    .dataframe tbody tr th {\n",
       "        vertical-align: top;\n",
       "    }\n",
       "\n",
       "    .dataframe thead th {\n",
       "        text-align: right;\n",
       "    }\n",
       "</style>\n",
       "<table border=\"1\" class=\"dataframe\">\n",
       "  <thead>\n",
       "    <tr style=\"text-align: right;\">\n",
       "      <th></th>\n",
       "      <th>patent_id</th>\n",
       "      <th>cpc_sequence</th>\n",
       "      <th>cpc_group</th>\n",
       "    </tr>\n",
       "  </thead>\n",
       "  <tbody>\n",
       "    <tr>\n",
       "      <th>0</th>\n",
       "      <td>3950000</td>\n",
       "      <td>0</td>\n",
       "      <td>A63C9/001</td>\n",
       "    </tr>\n",
       "    <tr>\n",
       "      <th>1</th>\n",
       "      <td>3950000</td>\n",
       "      <td>1</td>\n",
       "      <td>A63C9/00</td>\n",
       "    </tr>\n",
       "    <tr>\n",
       "      <th>2</th>\n",
       "      <td>3950000</td>\n",
       "      <td>2</td>\n",
       "      <td>A63C9/002</td>\n",
       "    </tr>\n",
       "    <tr>\n",
       "      <th>3</th>\n",
       "      <td>3950000</td>\n",
       "      <td>3</td>\n",
       "      <td>A63C9/081</td>\n",
       "    </tr>\n",
       "    <tr>\n",
       "      <th>4</th>\n",
       "      <td>3950001</td>\n",
       "      <td>0</td>\n",
       "      <td>A63C9/086</td>\n",
       "    </tr>\n",
       "    <tr>\n",
       "      <th>...</th>\n",
       "      <td>...</td>\n",
       "      <td>...</td>\n",
       "      <td>...</td>\n",
       "    </tr>\n",
       "    <tr>\n",
       "      <th>995</th>\n",
       "      <td>3950238</td>\n",
       "      <td>1</td>\n",
       "      <td>C08F8/00</td>\n",
       "    </tr>\n",
       "    <tr>\n",
       "      <th>996</th>\n",
       "      <td>3950238</td>\n",
       "      <td>2</td>\n",
       "      <td>C08F279/02</td>\n",
       "    </tr>\n",
       "    <tr>\n",
       "      <th>997</th>\n",
       "      <td>3950238</td>\n",
       "      <td>3</td>\n",
       "      <td>C08F285/00</td>\n",
       "    </tr>\n",
       "    <tr>\n",
       "      <th>998</th>\n",
       "      <td>3950238</td>\n",
       "      <td>4</td>\n",
       "      <td>C08F291/02</td>\n",
       "    </tr>\n",
       "    <tr>\n",
       "      <th>999</th>\n",
       "      <td>3950238</td>\n",
       "      <td>5</td>\n",
       "      <td>C08K5/053</td>\n",
       "    </tr>\n",
       "  </tbody>\n",
       "</table>\n",
       "<p>1000 rows × 3 columns</p>\n",
       "</div>"
      ],
      "text/plain": [
       "     patent_id  cpc_sequence   cpc_group\n",
       "0      3950000             0   A63C9/001\n",
       "1      3950000             1    A63C9/00\n",
       "2      3950000             2   A63C9/002\n",
       "3      3950000             3   A63C9/081\n",
       "4      3950001             0   A63C9/086\n",
       "..         ...           ...         ...\n",
       "995    3950238             1    C08F8/00\n",
       "996    3950238             2  C08F279/02\n",
       "997    3950238             3  C08F285/00\n",
       "998    3950238             4  C08F291/02\n",
       "999    3950238             5   C08K5/053\n",
       "\n",
       "[1000 rows x 3 columns]"
      ]
     },
     "execution_count": 40,
     "metadata": {},
     "output_type": "execute_result"
    }
   ],
   "source": [
    "# cpc = pd.read_csv(\"data/USPTO/g_cpc_current.tsv\", usecols=[\"patent_id\",\"cpc_sequence\",\"cpc_group\"], chunksize=1000, delimiter=\"\\t\")\n",
    "# cpc = next(cpc)\n",
    "# cpc"
   ]
  },
  {
   "cell_type": "code",
   "execution_count": 4,
   "id": "a4f9ed8a-5d19-4501-872c-e984a9b71be1",
   "metadata": {
    "tags": []
   },
   "outputs": [],
   "source": [
    "import pandas as pd\n",
    "\n",
    "# Load file\n",
    "cpc = pd.read_csv(\"data/USPTO/g_cpc_current.tsv\", usecols=[\"patent_id\",\"cpc_sequence\",\"cpc_group\"], delimiter=\"\\t\")\n",
    "\n",
    "# Filter out entries with non-numeric patent_id values\n",
    "cpc['patent_id'] = pd.to_numeric(cpc['patent_id'], errors='coerce', downcast='integer')\n",
    "cpc = cpc.dropna(subset=['patent_id'])\n",
    "\n",
    "# Change column names\n",
    "column_mapping = {\"patent_id\": \"pat\", \"cpc_sequence\": \"progr\", \"cpc_group\": \"CPC\"}\n",
    "cpc = cpc.rename(columns=column_mapping)\n",
    "# cpc['CPC'] = cpc['CPC'].str[:4]\n",
    "cpc = cpc.drop_duplicates(subset=['pat', 'CPC'])\n",
    "\n",
    "# Save the concatenated data to a new file\n",
    "cpc.to_csv('data/USPTO/input_files/GPCPCs.txt', index=False, sep=\"\\t\")\n",
    "\n",
    "# Free memory\n",
    "del cpc\n"
   ]
  },
  {
   "cell_type": "markdown",
   "id": "11531e64-fa48-4e45-99cd-fc120d41ee13",
   "metadata": {},
   "source": [
    "### Patent/Year-index"
   ]
  },
  {
   "cell_type": "code",
   "execution_count": 1,
   "id": "d06241f8-c4cc-458a-8376-d1a486a20504",
   "metadata": {
    "tags": []
   },
   "outputs": [
    {
     "name": "stderr",
     "output_type": "stream",
     "text": [
      "Processing TSV Files:  79%|███████▊  | 37/47 [00:24<00:11,  1.13s/it]/tmp/ipykernel_80571/2409036151.py:58: DtypeWarning: Columns (0) have mixed types. Specify dtype option on import or set low_memory=False.\n",
      "  df = pd.read_csv(file_path, sep='\\t')\n",
      "Processing TSV Files:  81%|████████  | 38/47 [00:26<00:10,  1.21s/it]/tmp/ipykernel_80571/2409036151.py:58: DtypeWarning: Columns (0) have mixed types. Specify dtype option on import or set low_memory=False.\n",
      "  df = pd.read_csv(file_path, sep='\\t')\n",
      "/tmp/ipykernel_80571/2409036151.py:58: DtypeWarning: Columns (0) have mixed types. Specify dtype option on import or set low_memory=False.\n",
      "  df = pd.read_csv(file_path, sep='\\t')\n",
      "Processing TSV Files:  83%|████████▎ | 39/47 [00:28<00:11,  1.47s/it]/tmp/ipykernel_80571/2409036151.py:58: DtypeWarning: Columns (0) have mixed types. Specify dtype option on import or set low_memory=False.\n",
      "  df = pd.read_csv(file_path, sep='\\t')\n",
      "Processing TSV Files:  87%|████████▋ | 41/47 [00:31<00:08,  1.43s/it]/tmp/ipykernel_80571/2409036151.py:58: DtypeWarning: Columns (0) have mixed types. Specify dtype option on import or set low_memory=False.\n",
      "  df = pd.read_csv(file_path, sep='\\t')\n",
      "Processing TSV Files:  89%|████████▉ | 42/47 [00:34<00:08,  1.78s/it]/tmp/ipykernel_80571/2409036151.py:58: DtypeWarning: Columns (0) have mixed types. Specify dtype option on import or set low_memory=False.\n",
      "  df = pd.read_csv(file_path, sep='\\t')\n",
      "Processing TSV Files:  91%|█████████▏| 43/47 [00:35<00:06,  1.54s/it]/tmp/ipykernel_80571/2409036151.py:58: DtypeWarning: Columns (0) have mixed types. Specify dtype option on import or set low_memory=False.\n",
      "  df = pd.read_csv(file_path, sep='\\t')\n",
      "/tmp/ipykernel_80571/2409036151.py:58: DtypeWarning: Columns (0) have mixed types. Specify dtype option on import or set low_memory=False.\n",
      "  df = pd.read_csv(file_path, sep='\\t')\n",
      "Processing TSV Files: 100%|██████████| 47/47 [00:39<00:00,  1.18it/s]\n"
     ]
    }
   ],
   "source": [
    "import os\n",
    "from multiprocessing import Pool, cpu_count\n",
    "import pandas as pd\n",
    "from tqdm import tqdm\n",
    "\n",
    "def process_tsv_file(file_path: str) -> list:\n",
    "    \"\"\"\n",
    "    Process a TSV file and extract unique patent IDs along with the corresponding year.\n",
    "\n",
    "    Parameters:\n",
    "    -----------\n",
    "    file_path : str\n",
    "        Path to the TSV file.\n",
    "\n",
    "    Returns:\n",
    "    --------\n",
    "    list\n",
    "        List of tuples containing unique patent IDs and the corresponding year.\n",
    "    \"\"\"\n",
    "    result_data = []\n",
    "    year = file_path.split('_')[-1].split('.')[0]\n",
    "\n",
    "    df = pd.read_csv(file_path, sep='\\t')\n",
    "    df['patent_id'] = pd.to_numeric(df['patent_id'], errors='coerce', downcast='integer')\n",
    "    df = df.dropna(subset=['patent_id'])\n",
    "\n",
    "    unique_patents = df['patent_id'].unique()\n",
    "    result_data.extend([(int(float(patent)), year) for patent in unique_patents])\n",
    "\n",
    "    del df\n",
    "    return result_data\n",
    "\n",
    "def create_year_csv(folder_path: str, output_path: str, cpc_path: str, num_cores: int) -> None:\n",
    "    \"\"\"\n",
    "    Create a CSV file with unique patent IDs and corresponding years from TSV files in the specified folder.\n",
    "\n",
    "    Parameters:\n",
    "    -----------\n",
    "    folder_path : str\n",
    "        Path to the folder containing TSV files.\n",
    "    output_path : str\n",
    "        Path to save the resulting CSV file.\n",
    "    cpc_path : pd.DataFrame\n",
    "        DataFrame containing data from cpc.csv.\n",
    "    num_cores : int\n",
    "        Number of CPU cores to use for parallel processing.\n",
    "    \"\"\"\n",
    "\n",
    "    # Load cpc.csv into a DataFrame\n",
    "    cpc_df = pd.read_csv(cpc_path, delimiter=\"\\t\")\n",
    "    \n",
    "    tsv_files = [os.path.join(folder_path, filename) for filename in os.listdir(folder_path) if filename.endswith('.tsv')]\n",
    "\n",
    "    result_data = []\n",
    "\n",
    "    with Pool(processes=num_cores or cpu_count()) as pool:\n",
    "        for file_data in tqdm(pool.imap(process_tsv_file, tsv_files), total=len(tsv_files), desc=\"Processing TSV Files\"):\n",
    "            result_data.extend(file_data)\n",
    "\n",
    "    result_df = pd.DataFrame(result_data, columns=['pat', 'year'])\n",
    "    \n",
    "    # Filter only patents with integer 'pat' and present in filtered_cpc_df\n",
    "    result_df = result_df[result_df['pat'].astype(int).isin(cpc_df['pat'])]\n",
    "    \n",
    "    result_df.to_csv(output_path, index=False, sep=\"\\t\")\n",
    "\n",
    "# Example usage:\n",
    "create_year_csv('/home/smildinerm/data/volume_2/data/USPTO/brief_summary',\n",
    "                '/home/smildinerm/data/volume_2/data/USPTO/input_files/year.csv',\n",
    "                '/home/smildinerm/data/volume_2/data/USPTO/input_files/GPCPCs.txt', 20)\n"
   ]
  },
  {
   "cell_type": "code",
   "execution_count": 5,
   "id": "35191db2-07ef-4a86-b9bf-7a16bc70c0b4",
   "metadata": {
    "tags": []
   },
   "outputs": [],
   "source": [
    "year = pd.read_csv(\"/home/smildinerm/data/volume_2/data/USPTO/input_files/year.csv\", delimiter=\"\\t\")"
   ]
  },
  {
   "cell_type": "code",
   "execution_count": 6,
   "id": "ef2157b9-d997-44d2-9cf7-f53ae4a4f8e1",
   "metadata": {
    "tags": []
   },
   "outputs": [
    {
     "data": {
      "text/plain": [
       "(7561282, 2)"
      ]
     },
     "execution_count": 6,
     "metadata": {},
     "output_type": "execute_result"
    }
   ],
   "source": [
    "year.shape"
   ]
  },
  {
   "cell_type": "code",
   "execution_count": 2,
   "id": "68d86165-d368-45e3-ac1d-d0c3051ddbc2",
   "metadata": {
    "tags": []
   },
   "outputs": [
    {
     "ename": "NameError",
     "evalue": "name 'year' is not defined",
     "output_type": "error",
     "traceback": [
      "\u001b[0;31m---------------------------------------------------------------------------\u001b[0m",
      "\u001b[0;31mNameError\u001b[0m                                 Traceback (most recent call last)",
      "Cell \u001b[0;32mIn[2], line 1\u001b[0m\n\u001b[0;32m----> 1\u001b[0m \u001b[43myear\u001b[49m[year[\u001b[38;5;124m\"\u001b[39m\u001b[38;5;124mpat\u001b[39m\u001b[38;5;124m\"\u001b[39m] \u001b[38;5;241m==\u001b[39m \u001b[38;5;241m8621736\u001b[39m]\n",
      "\u001b[0;31mNameError\u001b[0m: name 'year' is not defined"
     ]
    }
   ],
   "source": [
    "year[year[\"pat\"] == 8621736]"
   ]
  },
  {
   "cell_type": "code",
   "execution_count": 27,
   "id": "eb7b4a03-b9ea-41d1-bd05-ee52879db0e6",
   "metadata": {
    "tags": []
   },
   "outputs": [],
   "source": [
    "# Delete to free up memory\n",
    "del year"
   ]
  },
  {
   "cell_type": "markdown",
   "id": "59e60c28-f80c-41c3-9c96-c5c7a1619c30",
   "metadata": {},
   "source": [
    "### Patents brief text\n",
    "Create mock files with 1000 patents only"
   ]
  },
  {
   "cell_type": "code",
   "execution_count": 46,
   "id": "f80def4f-2504-4e10-b2df-51657b4b7af9",
   "metadata": {
    "tags": []
   },
   "outputs": [
    {
     "name": "stderr",
     "output_type": "stream",
     "text": [
      "100%|█████████████████████████████████████████████| 7/7 [00:19<00:00,  2.83s/it]\n"
     ]
    }
   ],
   "source": [
    "# !pip install tqdm\n",
    "import pandas as pd\n",
    "\n",
    "# Folder path containing the .tsv files\n",
    "folder_path = 'data/USPTO/brief_text'\n",
    "\n",
    "# Loop over all files in the folder\n",
    "for filename in tqdm(os.listdir(folder_path)):\n",
    "    if filename.endswith('.tsv'):\n",
    "        \n",
    "        # Read the TSV file into a DataFrame\n",
    "        file_path = os.path.join(folder_path, filename)\n",
    "        df = pd.read_csv(file_path, sep='\\t')\n",
    "        df.iloc[0:1000,:].to_csv(f\"data/USPTO/mock/{filename}\", index=False, sep=\"\\t\")"
   ]
  },
  {
   "cell_type": "code",
   "execution_count": 1,
   "id": "b8ef9348-1bb1-49c9-a628-7a55cf54bc07",
   "metadata": {
    "tags": []
   },
   "outputs": [],
   "source": [
    "import pandas as pd\n",
    "pat = pd.read_csv(\"data/USPTO/brief_text/g_brf_sum_text_1976.tsv\", sep = \"\\t\")"
   ]
  },
  {
   "cell_type": "code",
   "execution_count": 2,
   "id": "23053186-42ec-4c71-a37f-eafd09d14aff",
   "metadata": {
    "tags": []
   },
   "outputs": [
    {
     "name": "stdout",
     "output_type": "stream",
     "text": [
      "0    BACKGROUND OF THE INVENTION \\nThis invention r...\n",
      "1    The present invention relates to the methods o...\n",
      "2    BACKGROUND OF THE INVENTION \\nThe present inve...\n",
      "3    BACKGROUND OF THE INVENTION \\n1. Field of the ...\n",
      "4    The present invention relates to a food compos...\n",
      "Name: summary_text, dtype: object\n"
     ]
    }
   ],
   "source": [
    "# pat[pat[\"patent_id\"].str.startswith(\"RE\")]\n",
    "print(pat.iloc[0:5,1])"
   ]
  },
  {
   "cell_type": "code",
   "execution_count": null,
   "id": "dd3a6913-b0bf-4f5b-be35-78380e304bdc",
   "metadata": {},
   "outputs": [],
   "source": []
  }
 ],
 "metadata": {
  "kernelspec": {
   "display_name": "Python 3 (ipykernel)",
   "language": "python",
   "name": "python3"
  },
  "language_info": {
   "codemirror_mode": {
    "name": "ipython",
    "version": 3
   },
   "file_extension": ".py",
   "mimetype": "text/x-python",
   "name": "python",
   "nbconvert_exporter": "python",
   "pygments_lexer": "ipython3",
   "version": "3.8.10"
  }
 },
 "nbformat": 4,
 "nbformat_minor": 5
}
